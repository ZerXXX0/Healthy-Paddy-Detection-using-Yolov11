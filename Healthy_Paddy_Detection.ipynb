{
  "nbformat": 4,
  "nbformat_minor": 0,
  "metadata": {
    "colab": {
      "provenance": [],
      "authorship_tag": "ABX9TyMvwTpDBdFXBS9xHgjtuPdI",
      "include_colab_link": true
    },
    "kernelspec": {
      "name": "python3",
      "display_name": "Python 3"
    },
    "language_info": {
      "name": "python"
    }
  },
  "cells": [
    {
      "cell_type": "markdown",
      "metadata": {
        "id": "view-in-github",
        "colab_type": "text"
      },
      "source": [
        "<a href=\"https://colab.research.google.com/github/ZerXXX0/Healthy-Paddy-Detection-using-Yolov11/blob/main/Healthy_Paddy_Detection.ipynb\" target=\"_parent\"><img src=\"https://colab.research.google.com/assets/colab-badge.svg\" alt=\"Open In Colab\"/></a>"
      ]
    },
    {
      "cell_type": "code",
      "execution_count": null,
      "metadata": {
        "id": "YD1ioWitoDHV"
      },
      "outputs": [],
      "source": [
        "!pip install roboflow"
      ]
    },
    {
      "cell_type": "code",
      "source": [
        "!pip install ultralytics"
      ],
      "metadata": {
        "id": "oyy6S7KMoHKc"
      },
      "execution_count": null,
      "outputs": []
    },
    {
      "cell_type": "code",
      "source": [
        "!pip install roboflow\n",
        "\n",
        "from roboflow import Roboflow\n",
        "rf = Roboflow(api_key=\"SJs4I0zmErRwcIho6No5\")\n",
        "project = rf.workspace(\"rice-disease-detection-mwcsk\").project(\"healthy-vs-unhealthy-lbomt\")\n",
        "version = project.version(5)\n",
        "dataset = version.download(\"yolov11\")"
      ],
      "metadata": {
        "id": "jjGgjU8-oJd9"
      },
      "execution_count": null,
      "outputs": []
    },
    {
      "cell_type": "code",
      "source": [
        "from ultralytics import YOLO\n",
        "\n",
        "# Load a model\n",
        "model = YOLO(\"yolo11n.pt\")\n",
        "\n",
        "# Train the model\n",
        "results = model.train(data=\"/content/License-Plate-Recognition-4/data.yaml\", epochs=10, imgsz=640)"
      ],
      "metadata": {
        "id": "RTlHqrotoN_G"
      },
      "execution_count": null,
      "outputs": []
    },
    {
      "cell_type": "code",
      "source": [
        "#Displaying image of confusion matrix, prediction, and precision curve\n",
        "from IPython.display import Image\n",
        "Image(filename='/content/runs/detect/train/confusion_matrix.png', width=600)\n",
        "Image(filename='/content/runs/detect/train/val_batch2_pred.jpg', width=600)\n",
        "Image(filename='/content/runs/detect/train/P_curve.png', width=600)"
      ],
      "metadata": {
        "id": "ORszQvT8qFYE"
      },
      "execution_count": null,
      "outputs": []
    },
    {
      "cell_type": "code",
      "source": [
        "from google.colab import files\n",
        "\n",
        "# Upload an image and get the path\n",
        "def get_path():\n",
        "  uploaded = files.upload()\n",
        "  for fn in uploaded.keys():\n",
        "    return fn\n",
        "\n",
        "path = \"/content/\" + get_path()"
      ],
      "metadata": {
        "id": "6GBW7CqvqOsB"
      },
      "execution_count": null,
      "outputs": []
    },
    {
      "cell_type": "code",
      "source": [
        "# Name of the image\n",
        "result_saved = \"/content/runs/detect/predict1/\" + path.split(\"/\")[-1]"
      ],
      "metadata": {
        "id": "cTaC-TReqRZy"
      },
      "execution_count": null,
      "outputs": []
    },
    {
      "cell_type": "code",
      "source": [
        "# Show the result\n",
        "Image(filename=result_saved, width=600)"
      ],
      "metadata": {
        "id": "xRjQoLpwqbhz"
      },
      "execution_count": null,
      "outputs": []
    },
    {
      "cell_type": "code",
      "source": [],
      "metadata": {
        "id": "aNyuoZETqeI8"
      },
      "execution_count": null,
      "outputs": []
    }
  ]
}